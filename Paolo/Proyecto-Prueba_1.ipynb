{
 "metadata": {
  "name": "",
  "signature": "sha256:aae118fffc5f3e556658bfa34a217189a6c470b41dcbe580db3fa6a10134de36"
 },
 "nbformat": 3,
 "nbformat_minor": 0,
 "worksheets": [
  {
   "cells": [
    {
     "cell_type": "heading",
     "level": 1,
     "metadata": {},
     "source": [
      "Prueba 1"
     ]
    },
    {
     "cell_type": "markdown",
     "metadata": {},
     "source": [
      "Aqui ire haciendo pruebas y cambios que se me ocurran. Es como para hacer experimentos a ver si funciona."
     ]
    },
    {
     "cell_type": "code",
     "collapsed": false,
     "input": [
      "%pylab inline\n",
      "import numpy as np\n",
      "import matplotlib.pyplot as plt\n",
      "from random import randint"
     ],
     "language": "python",
     "metadata": {},
     "outputs": [
      {
       "output_type": "stream",
       "stream": "stdout",
       "text": [
        "Populating the interactive namespace from numpy and matplotlib\n"
       ]
      }
     ],
     "prompt_number": 3
    },
    {
     "cell_type": "code",
     "collapsed": false,
     "input": [
      "class Agente_grid:\n",
      "    \"\"\"Agente con una posici\u00f3n especifica (aleatoria) en una cuadricula discreta\"\"\"\n",
      "    \n",
      "    def __init__(self, id ,tipo = 1):\n",
      "        self.id = id\n",
      "        self.tipo = tipo\n",
      "        self.posicion = np.array([random.randint(0,51), random.randint(0,51)])\n",
      "        self.existencia = False    \n",
      "        self.vision = random.randint(1,3)\n",
      "        \n",
      "    def explorar(self, mundo):\n",
      "        \"\"\"\n",
      "        Basado en el rango de visi\u00f3n, el agente explora sus alrededores en busca de azucar.\n",
      "        Los 4 if's actuan cuando el agente est\u00e1 en alguna de las orillas del mapa evitando salirnos del arreglo.\n",
      "        \"\"\"\n",
      "        if self.posicion[0] - self.vision < 0:\n",
      "            aux_1 = 0\n",
      "        else:\n",
      "            aux_1 = self.posicion[0]-self.vision\n",
      "            \n",
      "        if  self.posicion[0] + self.vision + 1 > 51:\n",
      "            aux_2 = 51\n",
      "        else:\n",
      "            aux_2 = self.posicion[0] + self.vision + 1\n",
      "            \n",
      "        if self.posicion[1] - self.vision < 0:\n",
      "            aux_3 = 0\n",
      "        else:\n",
      "            aux_3 = self.posicion[1] - self.vision\n",
      "            \n",
      "        if self.posicion[1] + self.vision + 1 > 51:\n",
      "            aux_4 = 51\n",
      "        else:\n",
      "            aux_4 =self.posicion[1] + self.vision + 1\n",
      "             #return mundo[aux_1 : aux_2 , aux_3 : aux_4]\n",
      "        return ()\n",
      "    \n",
      "    def decidir(self, mundo):\n",
      "        \"\"\"\n",
      "        Recorre el campo de acci\u00f3n del agente buscando azucar (agentes tipo 2).\n",
      "        Despu\u00e9s decide cual de ellas es la mejor opci\u00f3n (basado en cercan\u00eda y cantidad)\n",
      "        \"\"\"\n",
      "        campo_accion = self.explorar(mundo)\n",
      "        for i in xrange(campo_accion.shape[0]): #Renglones\n",
      "            for j in xrange(campo_accion.shape[1]): #Columnas \n",
      "                if campo_accion[i,j] == 2:\n"
     ],
     "language": "python",
     "metadata": {},
     "outputs": [
      {
       "ename": "IndentationError",
       "evalue": "expected an indented block (<ipython-input-4-b3cab71016ef>, line 46)",
       "output_type": "pyerr",
       "traceback": [
        "\u001b[1;36m  File \u001b[1;32m\"<ipython-input-4-b3cab71016ef>\"\u001b[1;36m, line \u001b[1;32m46\u001b[0m\n\u001b[1;33m    if campo_accion[i,j] == 2:\u001b[0m\n\u001b[1;37m                              ^\u001b[0m\n\u001b[1;31mIndentationError\u001b[0m\u001b[1;31m:\u001b[0m expected an indented block\n"
       ]
      }
     ],
     "prompt_number": 4
    },
    {
     "cell_type": "code",
     "collapsed": false,
     "input": [
      "campo_accion = Paolo.explorar(mundo)\n",
      "campo_accion.shape[0]\n"
     ],
     "language": "python",
     "metadata": {},
     "outputs": [
      {
       "ename": "NameError",
       "evalue": "name 'Paolo' is not defined",
       "output_type": "pyerr",
       "traceback": [
        "\u001b[1;31m---------------------------------------------------------------------------\u001b[0m\n\u001b[1;31mNameError\u001b[0m                                 Traceback (most recent call last)",
        "\u001b[1;32m<ipython-input-2-d625c3311d26>\u001b[0m in \u001b[0;36m<module>\u001b[1;34m()\u001b[0m\n\u001b[1;32m----> 1\u001b[1;33m \u001b[0mcampo_accion\u001b[0m \u001b[1;33m=\u001b[0m \u001b[0mPaolo\u001b[0m\u001b[1;33m.\u001b[0m\u001b[0mexplorar\u001b[0m\u001b[1;33m(\u001b[0m\u001b[0mmundo\u001b[0m\u001b[1;33m)\u001b[0m\u001b[1;33m\u001b[0m\u001b[0m\n\u001b[0m\u001b[0;32m      2\u001b[0m \u001b[0mcampo_accion\u001b[0m\u001b[1;33m.\u001b[0m\u001b[0mshape\u001b[0m\u001b[1;33m[\u001b[0m\u001b[1;36m0\u001b[0m\u001b[1;33m]\u001b[0m\u001b[1;33m\u001b[0m\u001b[0m\n",
        "\u001b[1;31mNameError\u001b[0m: name 'Paolo' is not defined"
       ]
      }
     ],
     "prompt_number": 2
    },
    {
     "cell_type": "code",
     "collapsed": false,
     "input": [
      "class Agente_grid_prueba:\n",
      "    \"\"\"Agente con una posici\u00f3n especifica (definida por el usuario) en una cuadricula discreta\"\"\"\n",
      "    \n",
      "    def __init__(self, id ,tipo = 1, x = 0, y = 0, vision = 1):\n",
      "        self.id = id\n",
      "        self.tipo = tipo\n",
      "        self.posicion = np.array([x,y])\n",
      "        self.existencia = False    \n",
      "        self.vision = vision\n",
      "        \n",
      "    def explorar(self, mundo):\n",
      "        \n",
      "        if self.posicion[0] - self.vision < 0:\n",
      "            aux_1 = 0\n",
      "        else:\n",
      "            aux_1 = self.posicion[0]-self.vision\n",
      "            \n",
      "        if  self.posicion[0] + self.vision + 1 > 51:\n",
      "            aux_2 = 51\n",
      "        else:\n",
      "            aux_2 = self.posicion[0] + self.vision + 1\n",
      "            \n",
      "        if self.posicion[1] - self.vision < 0:\n",
      "            aux_3 = 0\n",
      "        else:\n",
      "            aux_3 = self.posicion[1] - self.vision\n",
      "            \n",
      "        if self.posicion[1] + self.vision + 1 > 51:\n",
      "            aux_4 = 51\n",
      "        else:\n",
      "            aux_4 =self.posicion[1] + self.vision + 1\n",
      "            \n",
      "        return mundo[aux_1 : aux_2 , aux_3 : aux_4]"
     ],
     "language": "python",
     "metadata": {},
     "outputs": [],
     "prompt_number": 7
    },
    {
     "cell_type": "code",
     "collapsed": false,
     "input": [
      "def definirse(mundo, agentes):\n",
      "    \"\"\"Les da existencia a los agentes en el mundo\n",
      "    Es decir, en una cuadricula (NumPy array de 2 dimensiones),\n",
      "    la funci\u00f3n coloca cada agente en las cordenadas aleatorias que tiene cada uno en self.posicion\n",
      "    Al ser colocado se dice que el agente existe\n",
      "    Si esa casilla ya esta ocupada, se buscan nuevas coordenadas aleatorias para existir hasta que se logre. \n",
      "    \"\"\"\n",
      "    \n",
      "    for i in range(len(agentes)):\n",
      "        while agentes[i].existencia == False:\n",
      "            x,y = agentes[i].posicion\n",
      "            if mundo[x,y] == 0:\n",
      "                mundo[x,y] = agentes[i].tipo\n",
      "                agentes[i].existencia = True\n",
      "            else:\n",
      "                agentes[i].posicion = np.array([random.randint(0,50), random.randint(0,50)])"
     ],
     "language": "python",
     "metadata": {},
     "outputs": [],
     "prompt_number": 8
    },
    {
     "cell_type": "code",
     "collapsed": false,
     "input": [
      "class Mundo:\n",
      "    \"\"\"\n",
      "    Un Mundo de SugarScape representado por un array de NumPy de 2D de 51x51\n",
      "    \"\"\"\n",
      "    \n",
      "    def __init__(self):\n",
      "        \"\"\"Creamos la cuadricula\"\"\"\n",
      "        self.mundo = np.zeros((51,51))\n",
      "        \n",
      "    def definirse(self, agentes):\n",
      "    \"\"\"Les da existencia a los agentes en el mundo\n",
      "    Es decir, en una cuadricula (NumPy array de 2 dimensiones),\n",
      "    la funci\u00f3n coloca cada agente en las cordenadas aleatorias que tiene cada uno en self.posicion\n",
      "    Al ser colocado se dice que el agente existe\n",
      "    Si esa casilla ya esta ocupada, se buscan nuevas coordenadas aleatorias para existir hasta que se logre. \n",
      "    \"\"\"\n",
      "    \n",
      "    for i in range(len(agentes)):\n",
      "        while agentes[i].existencia == False:\n",
      "            x,y = agentes[i].posicion\n",
      "            if self.mundo[x,y] == 0:\n",
      "                self.mundo[x,y] = agentes[i].tipo\n",
      "                agentes[i].existencia = True\n",
      "            else:\n",
      "                agentes[i].posicion = np.array([random.randint(0,50), random.randint(0,50)]) \n",
      "            \n",
      "    def dibujarse(self):\n",
      "        plt.figure(figsize=(11,10), dpi=80)\n",
      "        pyplot.pcolor(-numpy.flipud(mundo))\n",
      "        plt.axis([0, cols, 0, rows])\n",
      "        plt.gray()\n",
      "        plt.colorbar() #ELIMINAR\n",
      "#         plt.axis('off') #ELIMINAR"
     ],
     "language": "python",
     "metadata": {},
     "outputs": [
      {
       "ename": "IndentationError",
       "evalue": "expected an indented block (<ipython-input-9-6d6058694d5e>, line 16)",
       "output_type": "pyerr",
       "traceback": [
        "\u001b[1;36m  File \u001b[1;32m\"<ipython-input-9-6d6058694d5e>\"\u001b[1;36m, line \u001b[1;32m16\u001b[0m\n\u001b[1;33m    \"\"\"\u001b[0m\n\u001b[1;37m       \n^\u001b[0m\n\u001b[1;31mIndentationError\u001b[0m\u001b[1;31m:\u001b[0m expected an indented block\n"
       ]
      }
     ],
     "prompt_number": 9
    },
    {
     "cell_type": "code",
     "collapsed": false,
     "input": [
      "Paolo = Agente_grid_prueba(tipo = 1 ,id = 0, x = 45 , y= 50, vision = 2)"
     ],
     "language": "python",
     "metadata": {},
     "outputs": [],
     "prompt_number": 10
    },
    {
     "cell_type": "code",
     "collapsed": false,
     "input": [
      "mundo = np.zeros((51,51))\n",
      "\n",
      "agentes = [Paolo]\n",
      "agentes.extend(Agente_grid(tipo = 1, id = i+1) for i in range(99)) \n",
      "agentes.extend(Agente_grid(tipo = 2, id = 100 + i) for i in range(100))\n",
      "definirse(mundo, agentes)"
     ],
     "language": "python",
     "metadata": {},
     "outputs": [
      {
       "ename": "NameError",
       "evalue": "global name 'Agente_grid' is not defined",
       "output_type": "pyerr",
       "traceback": [
        "\u001b[1;31m---------------------------------------------------------------------------\u001b[0m\n\u001b[1;31mNameError\u001b[0m                                 Traceback (most recent call last)",
        "\u001b[1;32m<ipython-input-11-3daaaa9a2011>\u001b[0m in \u001b[0;36m<module>\u001b[1;34m()\u001b[0m\n\u001b[0;32m      2\u001b[0m \u001b[1;33m\u001b[0m\u001b[0m\n\u001b[0;32m      3\u001b[0m \u001b[0magentes\u001b[0m \u001b[1;33m=\u001b[0m \u001b[1;33m[\u001b[0m\u001b[0mPaolo\u001b[0m\u001b[1;33m]\u001b[0m\u001b[1;33m\u001b[0m\u001b[0m\n\u001b[1;32m----> 4\u001b[1;33m \u001b[0magentes\u001b[0m\u001b[1;33m.\u001b[0m\u001b[0mextend\u001b[0m\u001b[1;33m(\u001b[0m\u001b[0mAgente_grid\u001b[0m\u001b[1;33m(\u001b[0m\u001b[0mtipo\u001b[0m \u001b[1;33m=\u001b[0m \u001b[1;36m1\u001b[0m\u001b[1;33m,\u001b[0m \u001b[0mid\u001b[0m \u001b[1;33m=\u001b[0m \u001b[0mi\u001b[0m\u001b[1;33m+\u001b[0m\u001b[1;36m1\u001b[0m\u001b[1;33m)\u001b[0m \u001b[1;32mfor\u001b[0m \u001b[0mi\u001b[0m \u001b[1;32min\u001b[0m \u001b[0mrange\u001b[0m\u001b[1;33m(\u001b[0m\u001b[1;36m99\u001b[0m\u001b[1;33m)\u001b[0m\u001b[1;33m)\u001b[0m\u001b[1;33m\u001b[0m\u001b[0m\n\u001b[0m\u001b[0;32m      5\u001b[0m \u001b[0magentes\u001b[0m\u001b[1;33m.\u001b[0m\u001b[0mextend\u001b[0m\u001b[1;33m(\u001b[0m\u001b[0mAgente_grid\u001b[0m\u001b[1;33m(\u001b[0m\u001b[0mtipo\u001b[0m \u001b[1;33m=\u001b[0m \u001b[1;36m2\u001b[0m\u001b[1;33m,\u001b[0m \u001b[0mid\u001b[0m \u001b[1;33m=\u001b[0m \u001b[1;36m100\u001b[0m \u001b[1;33m+\u001b[0m \u001b[0mi\u001b[0m\u001b[1;33m)\u001b[0m \u001b[1;32mfor\u001b[0m \u001b[0mi\u001b[0m \u001b[1;32min\u001b[0m \u001b[0mrange\u001b[0m\u001b[1;33m(\u001b[0m\u001b[1;36m100\u001b[0m\u001b[1;33m)\u001b[0m\u001b[1;33m)\u001b[0m\u001b[1;33m\u001b[0m\u001b[0m\n\u001b[0;32m      6\u001b[0m \u001b[0mdefinirse\u001b[0m\u001b[1;33m(\u001b[0m\u001b[0mmundo\u001b[0m\u001b[1;33m,\u001b[0m \u001b[0magentes\u001b[0m\u001b[1;33m)\u001b[0m\u001b[1;33m\u001b[0m\u001b[0m\n",
        "\u001b[1;32m<ipython-input-11-3daaaa9a2011>\u001b[0m in \u001b[0;36m<genexpr>\u001b[1;34m((i,))\u001b[0m\n\u001b[0;32m      2\u001b[0m \u001b[1;33m\u001b[0m\u001b[0m\n\u001b[0;32m      3\u001b[0m \u001b[0magentes\u001b[0m \u001b[1;33m=\u001b[0m \u001b[1;33m[\u001b[0m\u001b[0mPaolo\u001b[0m\u001b[1;33m]\u001b[0m\u001b[1;33m\u001b[0m\u001b[0m\n\u001b[1;32m----> 4\u001b[1;33m \u001b[0magentes\u001b[0m\u001b[1;33m.\u001b[0m\u001b[0mextend\u001b[0m\u001b[1;33m(\u001b[0m\u001b[0mAgente_grid\u001b[0m\u001b[1;33m(\u001b[0m\u001b[0mtipo\u001b[0m \u001b[1;33m=\u001b[0m \u001b[1;36m1\u001b[0m\u001b[1;33m,\u001b[0m \u001b[0mid\u001b[0m \u001b[1;33m=\u001b[0m \u001b[0mi\u001b[0m\u001b[1;33m+\u001b[0m\u001b[1;36m1\u001b[0m\u001b[1;33m)\u001b[0m \u001b[1;32mfor\u001b[0m \u001b[0mi\u001b[0m \u001b[1;32min\u001b[0m \u001b[0mrange\u001b[0m\u001b[1;33m(\u001b[0m\u001b[1;36m99\u001b[0m\u001b[1;33m)\u001b[0m\u001b[1;33m)\u001b[0m\u001b[1;33m\u001b[0m\u001b[0m\n\u001b[0m\u001b[0;32m      5\u001b[0m \u001b[0magentes\u001b[0m\u001b[1;33m.\u001b[0m\u001b[0mextend\u001b[0m\u001b[1;33m(\u001b[0m\u001b[0mAgente_grid\u001b[0m\u001b[1;33m(\u001b[0m\u001b[0mtipo\u001b[0m \u001b[1;33m=\u001b[0m \u001b[1;36m2\u001b[0m\u001b[1;33m,\u001b[0m \u001b[0mid\u001b[0m \u001b[1;33m=\u001b[0m \u001b[1;36m100\u001b[0m \u001b[1;33m+\u001b[0m \u001b[0mi\u001b[0m\u001b[1;33m)\u001b[0m \u001b[1;32mfor\u001b[0m \u001b[0mi\u001b[0m \u001b[1;32min\u001b[0m \u001b[0mrange\u001b[0m\u001b[1;33m(\u001b[0m\u001b[1;36m100\u001b[0m\u001b[1;33m)\u001b[0m\u001b[1;33m)\u001b[0m\u001b[1;33m\u001b[0m\u001b[0m\n\u001b[0;32m      6\u001b[0m \u001b[0mdefinirse\u001b[0m\u001b[1;33m(\u001b[0m\u001b[0mmundo\u001b[0m\u001b[1;33m,\u001b[0m \u001b[0magentes\u001b[0m\u001b[1;33m)\u001b[0m\u001b[1;33m\u001b[0m\u001b[0m\n",
        "\u001b[1;31mNameError\u001b[0m: global name 'Agente_grid' is not defined"
       ]
      }
     ],
     "prompt_number": 11
    },
    {
     "cell_type": "code",
     "collapsed": false,
     "input": [
      "plt.figure(figsize=(11,10), dpi=80)\n",
      "rows, cols = mundo.shape\n",
      "pyplot.pcolor(-numpy.flipud(mundo))\n",
      "plt.axis([0, cols, 0, rows])\n",
      "plt.gray()\n",
      "plt.colorbar()\n",
      "plt.axis('off')"
     ],
     "language": "python",
     "metadata": {},
     "outputs": [
      {
       "output_type": "stream",
       "stream": "stderr",
       "text": [
        "/usr/local/lib/python2.7/dist-packages/matplotlib/colorbar.py:829: RuntimeWarning: invalid value encountered in divide\n",
        "  z = np.take(y, i0) + (xn - np.take(b, i0)) * dy / db\n",
        "/usr/local/lib/python2.7/dist-packages/matplotlib/colorbar.py:581: RuntimeWarning: invalid value encountered in greater\n",
        "  inrange = (ticks > -0.001) & (ticks < 1.001)\n",
        "/usr/local/lib/python2.7/dist-packages/matplotlib/colorbar.py:581: RuntimeWarning: invalid value encountered in less\n",
        "  inrange = (ticks > -0.001) & (ticks < 1.001)\n"
       ]
      },
      {
       "metadata": {},
       "output_type": "pyout",
       "prompt_number": 12,
       "text": [
        "(0.0, 51.0, 0.0, 51.0)"
       ]
      },
      {
       "metadata": {},
       "output_type": "display_data",
       "png": "[encoded data removed]",
       "text": [
        "<matplotlib.figure.Figure at 0x7faca4ccc850>"
       ]
      }
     ],
     "prompt_number": 12
    },
    {
     "cell_type": "code",
     "collapsed": false,
     "input": [],
     "language": "python",
     "metadata": {},
     "outputs": [],
     "prompt_number": 12
    },
    {
     "cell_type": "code",
     "collapsed": false,
     "input": [],
     "language": "python",
     "metadata": {},
     "outputs": [],
     "prompt_number": 12
    },
    {
     "cell_type": "code",
     "collapsed": false,
     "input": [],
     "language": "python",
     "metadata": {},
     "outputs": []
    }
   ],
   "metadata": {}
  }
 ]
}