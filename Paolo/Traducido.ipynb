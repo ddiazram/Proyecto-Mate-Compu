{
 "metadata": {
  "name": "",
  "signature": "sha256:4935d484277423ca7387fd82d4e8ed9eb37c3a8b55137cdcf8443f469239ac3e"
 },
 "nbformat": 3,
 "nbformat_minor": 0,
 "worksheets": [
  {
   "cells": [
    {
     "cell_type": "heading",
     "level": 1,
     "metadata": {},
     "source": [
      "SugarScape"
     ]
    },
    {
     "cell_type": "heading",
     "level": 2,
     "metadata": {},
     "source": [
      "Preamble"
     ]
    },
    {
     "cell_type": "code",
     "collapsed": false,
     "input": [
      "%pylab inline\n",
      "import numpy as np\n",
      "import matplotlib.pyplot as plt\n",
      "from random import randint, choice "
     ],
     "language": "python",
     "metadata": {},
     "outputs": [
      {
       "output_type": "stream",
       "stream": "stdout",
       "text": [
        "Populating the interactive namespace from numpy and matplotlib\n"
       ]
      },
      {
       "output_type": "stream",
       "stream": "stderr",
       "text": [
        "WARNING: pylab import has clobbered these variables: ['randint']\n",
        "`%matplotlib` prevents importing * from pylab and numpy\n"
       ]
      }
     ],
     "prompt_number": 25
    },
    {
     "cell_type": "heading",
     "level": 2,
     "metadata": {},
     "source": [
      "Agent"
     ]
    },
    {
     "cell_type": "code",
     "collapsed": false,
     "input": [
      "class Agent_grid:\n",
      "    \"\"\"Agent with a specific location in a 51x51 discrete grid.\n",
      "        id: saves a unique number for each agent\n",
      "        tpe: number for graphic purposes.\n",
      "        max_life: The maximum time that an agent \"exists\" in the world.\n",
      "        existence: boolean type attribute that assures the agent's existence in the world, given the fact that it can\n",
      "                  die or overlap with other agents.\n",
      "        position: np.array (1x2) that represents the agent's position in that moment.\n",
      "        vision: int attribute between 1 and 2, intrinsic characteristic of each agent that allows it to have greater \n",
      "                action field.\n",
      "        objective: determines if the agent is moving to a specific targeted position.\n",
      "        vicinity: dictionary in which agents, sugars and other items surrounding an agent are stored.\n",
      "        metabolism: represents the rate at which the agent consumes the energy it possesses. \n",
      "        energy: number which helps the agent decide where to move, due to the fact that the agent can die if its energy runs out.\n",
      "    \"\"\"\n",
      "    \n",
      "    def __init__(self, id ,tpe = 2, x = None, y = None, vision = None , energy = None, metabolism = None):\n",
      "        self.id = id\n",
      "        self.tpe = tpe #type\n",
      "        self.max_life=randint(2,20)\n",
      "        self.sex = choice(['M','F'])\n",
      "        if metabolism == None:\n",
      "            self.metabolism = randint(1,5)\n",
      "        else:\n",
      "            self.metabolism = metabolism\n",
      "        if energy == None:\n",
      "            self.energy = 10\n",
      "        else:\n",
      "            self.energy = energy\n",
      "        self.existence = False\n",
      "        self.objective = None\n",
      "        self.vicinity= {'sugar' : [], #Dictionary to store information about the things nearby\n",
      "                         'sugar_id' : [],\n",
      "                         'neighbors' : [],\n",
      "                         'empty_spaces': [],\n",
      "                         'spices':[],\n",
      "                         'spices_id':[]}\n",
      "        if x == None or y == None:\n",
      "            self.position = np.array([randint(0,50), randint(0,50)])\n",
      "        else:\n",
      "            self.position = np.array([x,y])\n",
      "        if vision == None:\n",
      "            self.vision = randint(1,2)\n",
      "        else:\n",
      "            self.vision = vision\n",
      "        \n",
      "                             \n",
      "    def see(self, world , show = False):\n",
      "        \"\"\"\n",
      "        Based in the vision range, the agent \"sees\" its vicinity in search of sugar and other agents.\n",
      "        The four if's are implemented when the agent is in any position in the grid's border. In this way we avoid that it gets\n",
      "        out of the array.\n",
      "        \"\"\"\n",
      "        if self.position[0] - self.vision < 0:\n",
      "            x_min = 0\n",
      "        else:\n",
      "            x_min = self.position[0]-self.vision\n",
      "            \n",
      "        if  self.position[0] + self.vision + 1 > 51:\n",
      "            x_max = 51\n",
      "        else:\n",
      "            x_max = self.position[0] + self.vision + 1\n",
      "            \n",
      "        if self.position[1] - self.vision < 0:\n",
      "            y_min = 0\n",
      "        else:\n",
      "            y_min = self.position[1] - self.vision\n",
      "            \n",
      "        if self.position[1] + self.vision + 1 > 51:\n",
      "            y_max = 51\n",
      "        else:\n",
      "            y_max =self.position[1] + self.vision + 1\n",
      "        if show == True:\n",
      "            print world.grid[x_min : x_max , y_min : y_max]  #Linea para pruebas ELIMINAR\n",
      "        return np.array([x_min,x_max,y_min,y_max])\n",
      "\n",
      "    def explore(self, world):\n",
      "        \"\"\"\n",
      "        Goes over the agant's action field, based in its vision range. \n",
      "        Identifies and saves in a dictionary each type of element that is near the agent so then the agent can take a decision.\n",
      "        Due to the fact that the vicinity changes after each iteration (each time the agent moves), in each step we clean\n",
      "        vicinity dictionary.\n",
      "        \n",
      "        \"\"\"\n",
      "        lim = self.see(world)\n",
      "        self.vicinity['neighbors'] = []\n",
      "        self.vicinity['sugar'] = []\n",
      "        self.vicinity['sugar_id'] = []\n",
      "        self.vicinity['spices'] = []\n",
      "        self.vicinity['spices_id'] = []\n",
      "        self.vicinity['empty_spaces'] = []\n",
      "        \n",
      "        #Clasify the whole vicinity\n",
      "        for i in xrange(lim[0],lim[1]): #Rows\n",
      "            for j in xrange(lim[2],lim[3]): #Columns \n",
      "                if world.grid[i,j] == 0:\n",
      "                    self.vicinity['empty_spaces'].append(np.array([i,j]))\n",
      "                elif world.grid[i,j] == 1:\n",
      "                    self.vicinity['sugar'].append(np.array([i,j]))\n",
      "                elif world.grid[i,j] == 2: \n",
      "                    self.vicinity['neighbors'].append(np.array([i,j]))\n",
      "                elif world.grid[i,j]==3:\n",
      "                    self.vicinity['spices'].append(np.array([i,j]))\n",
      "        \n",
      "        #Find the sugars ID of the neighbors             \n",
      "        for i in xrange(len(self.vicinity['sugar'])):\n",
      "            for j in xrange(len(world.sugars_list)):\n",
      "                if np.all(self.vicinity['sugar'][i] == world.sugars_list[j].position):\n",
      "                    self.vicinity['sugar_id'].append(j)\n",
      "                    break\n",
      "                    \n",
      "        #Finds the spices ID of the neighbors             \n",
      "        for i in xrange(len(self.vicinity['spices'])):\n",
      "            for j in xrange(len(world.spices_list)):\n",
      "                if np.all(self.vicinity['spices'][i] == world.spices_list[j].position):\n",
      "                    self.vicinity['spices_id'].append(j)\n",
      "                    break\n",
      "                \n",
      "                    \n",
      "    def decide(self, world): \n",
      "        \"\"\"\n",
      "        Given the fact that the agent already knows its surroundings, it tries to maximize its yield doing a cost benefit analysis.\n",
      "        The agent then moves to the best choice availabe. If there is no best choice, it'll simply move randomly.\n",
      "        benefit = amount of energy units it'll recive from the sugar. Each sugar gives 1 energy unit.\n",
      "        cost = amount of energy it'll consume to get to the chosen position given the agent's metabolism.\n",
      "        \"\"\"\n",
      "        self.explore(world)\n",
      "        bc_sugar =  -6 #Benefit vs. Cost \n",
      "        for i in self.vicinity['sugar_id']:\n",
      "            if self.sugars_benefit(world, i) - self.sugars_cost(world, i) > bc:\n",
      "                bc_sugar = self.sugars_benefit(world, i) - self.sugars_cost(world, i) #Benefit/Cost of choosing a sugar\n",
      "                objective_sugar=i\n",
      "        \n",
      "        bc_spice=-6        \n",
      "        for j in self.vicinity['spices_id']:\n",
      "            if self.spices_benefit(world, j) - self.spices_cost(world, j) > bc:\n",
      "                bc_spice= self.spices_benefit(world, j) - self.spices_benefit(world, j) #Benefit/Cost of choosing a spice\n",
      "                objective_spice=j\n",
      "                \n",
      "        if bc_spice>bc_sugar:\n",
      "            self.objective=objective_spice\n",
      "            return True\n",
      "        else:\n",
      "            self.objective=objective_sugar\n",
      "            return False\n",
      "        \n",
      "        if bc <= -6:\n",
      "            self.objective = None\n",
      "    \n",
      "    def move(self, world):\n",
      "        \"\"\"\n",
      "        Agent's way of moving.\n",
      "        Three kinds of movement:\n",
      "        1. If they do not have a desired position, they move randomnly to an empty position.\n",
      "        2. If they want to move to an adjacent cell, it moves and the sugar there no longer exists while the agent is\n",
      "        in that position.\n",
      "\n",
      "        \"\"\"\n",
      "        self.decide(world) \n",
      "        if self.objective == None:\n",
      "            random_choice = choice(self.vicinity['empty_spaces'])\n",
      "            self.energy -= self.metabolism * self.calculate_distance(random_choice)\n",
      "            self.position = random_choice\n",
      "        else:\n",
      "            if self.decide(world)==True:\n",
      "                self.energy += self.sugars_benefit(world, self.objective)  - self.sugars_cost(world, self.objective)\n",
      "                self.position = world.sugars_list[self.objective].position\n",
      "                world.sugars_list[self.objective].existence = False #Removes the sugar from existence.\n",
      "            \n",
      "            if self.decide(world)==False:\n",
      "                self.energy += self.spices_benefit(world, self.objective)  - self.spices_cost(world, self.objective)\n",
      "                self.position = world.spices_list[self.objective].position\n",
      "                world.spices_list[self.objective].existence = False\n",
      "    \n",
      "    def calculate_distance(self, new_position):\n",
      "        \"\"\"\n",
      "        Caculates the distance between its own position and a new one. Since the particles can move in diagonal,\n",
      "        we're assuming a diagonal movement to be equal to one.\n",
      "        \"\"\"\n",
      "        return max(self.position - new_position)\n",
      "    \n",
      "    def sugars_benefit(self, world, x):\n",
      "        return world.sugars_list[x].quantity\n",
      "    \n",
      "    def spices_benefit(self, world, x):\n",
      "        return world.spices_list[x].quantity\n",
      "    \n",
      "    def sugars_cost(self, world, x):\n",
      "        return self.metabolism * self.calculate_distance(world.sugars_list[x].position)\n",
      "    \n",
      "    def spices_cost(self, world, x):\n",
      "        return self.metabolism * self.calculate_distance(world.spices_list[x].position)\n",
      "    \n",
      "    def death(self, agents, step, world):\n",
      "        \n",
      "        \"\"\"\n",
      "        The agent dies either when it runs out of energy or when it reaches its maximum time of life.\n",
      "        When an agent dies, a new agent is created.\n",
      "        \n",
      "        \"\"\"\n",
      "        \n",
      "        if step==self.max_life or self.energy<=0:\n",
      "            self.existence=False\n",
      "            x,y = self.position\n",
      "            world.grid[x,y]=0\n",
      "            new_agent=Agent_grid(id=len(agents)) #A new agent \"is born\" when another agent dies.\n",
      "            new_agent.existence==True\n",
      "            agents.append(new_agent)\n",
      "            \n",
      "    def state(self, world, full_state = False):\n",
      "        \"\"\"\n",
      "        Handy function to review an specific agent and its caracteristics\n",
      "        full_state: boolean that chooses the amount of information that displays.\n",
      "        \"\"\"\n",
      "        if full_state == True:\n",
      "            print \"Hello, I'm a type %s agent with ID: %s\" % (self.tpe, self.id)\n",
      "            print \"My stats are as follows:\" \n",
      "            print \"\\t Maximum life time: %s\" % self.max_life\n",
      "            print \"\\t Sex: %s\" % self.sex \n",
      "            print \"\\t Metabolism: %s\" % self.metabolism\n",
      "            print \"\\t Vision: %s\" % self.vision\n",
      "            print \"My current state is: \"\n",
      "            print \"\\t Energy: %s\" % self.energy\n",
      "            print \"\\t Position: %s\" % self.position\n",
      "            print \"\\t Surroundings: \"\n",
      "            self.see(world, show = True)\n",
      "        else:\n",
      "            print \"\\t Energy: %s\" % self.energy\n",
      "            print \"\\t Position: %s\" % self.position\n",
      "            print \"\\t Surroundings: \"\n",
      "            self.see(world, show = True)\n",
      "   "
     ],
     "language": "python",
     "metadata": {},
     "outputs": [],
     "prompt_number": 53
    },
    {
     "cell_type": "heading",
     "level": 2,
     "metadata": {},
     "source": [
      "Sugar"
     ]
    },
    {
     "cell_type": "code",
     "collapsed": false,
     "input": [
      "class Sugar:\n",
      "    \"\"\"\n",
      "    Stacks of sugar of variable sizes in a specific location in a discrete grid.\n",
      "    \"\"\"\n",
      "    \n",
      "    def __init__(self, id , tpe=2, x = None, y = None, quantity = None):\n",
      "        self.id = id\n",
      "        self.tpe = tpe #type\n",
      "        if x == None or y == None:\n",
      "            self.position = np.array([randint(0,50), randint(0,50)])\n",
      "        else:\n",
      "            self.position = np.array([x,y])\n",
      "        self.existence = False\n",
      "        if quantity == None:\n",
      "            self.quantity = randint(5,20)\n",
      "        else: \n",
      "            self.quantity = quantity"
     ],
     "language": "python",
     "metadata": {},
     "outputs": [],
     "prompt_number": 54
    },
    {
     "cell_type": "heading",
     "level": 2,
     "metadata": {},
     "source": [
      "Spice "
     ]
    },
    {
     "cell_type": "code",
     "collapsed": false,
     "input": [
      "class Spice:\n",
      "    \"\"\"\n",
      "    Stacks of spices of variable sizes in a specific location in a discrete grid.\n",
      "    \"\"\"\n",
      "    \n",
      "    def __init__(self, id ,tpe = 3, x = None, y = None, quantity = None):\n",
      "        self.id = id\n",
      "        self.tpe = tpe #type\n",
      "        if x == None or y == None:\n",
      "            self.position = np.array([randint(0,50), randint(0,50)])\n",
      "        else:\n",
      "            self.position = np.array([x,y])\n",
      "        self.existence = False\n",
      "        if quantity == None:\n",
      "            self.quantity = randint(1,5)\n",
      "        else: \n",
      "            self.quantity = quantity"
     ],
     "language": "python",
     "metadata": {},
     "outputs": [],
     "prompt_number": 55
    },
    {
     "cell_type": "heading",
     "level": 2,
     "metadata": {},
     "source": [
      "World"
     ]
    },
    {
     "cell_type": "code",
     "collapsed": false,
     "input": [
      "class World:\n",
      "    \"\"\"\n",
      "    A SugarScape world represented by a NumPy 2D array of 51x51. ie:\n",
      "    world = NumPy 2D 51x51 array \n",
      "    \"\"\"\n",
      "    \n",
      "    def __init__(self):\n",
      "        \"\"\"We create a zero's grid\"\"\"\n",
      "        self.grid = np.zeros((51,51))\n",
      "        self.sugars_list = []\n",
      "        self.spices_list=[]\n",
      "    \n",
      "    def place_sugars(self, n, practice_sugars = None):\n",
      "        \"\"\"\n",
      "        Function that creates n number of sugars and places them both on the grid and in the sugars_list.\n",
      "        n: number of sugars to be created, though you can't specify each one.\n",
      "        practice_sugars: list that contains handcrafted sugars in specific locations for trials purposes.\n",
      "        \"\"\"\n",
      "        if practice_sugars == None:\n",
      "            self.sugars_list = [Sugar(i) for i in xrange(n)]\n",
      "            self.define(self.sugars_list)       \n",
      "        else:\n",
      "            self.sugars_list = practice_sugars\n",
      "            self.define(self.sugars_list)\n",
      "            \n",
      "    def place_spices(self,n, practice_spices=None):\n",
      "        \n",
      "        \"\"\"\n",
      "        Function that creates n number of spices and places them both on the grid and in the spices_list.\n",
      "        n: number of spices to be created, though you can't specify each one.\n",
      "        practice_spices: list that contains handcrafted sugars in specific locations for trials purposes.\n",
      "        \"\"\"\n",
      "        if practice_spices == None:\n",
      "            self.spices_list = [Spice(i) for i in xrange(n)]\n",
      "            self.define(self.spices_list)       \n",
      "        else:\n",
      "            self.spices_list = practice_spices\n",
      "            self.define(self.spices_list)\n",
      "                            \n",
      "    \n",
      "    def define(self, agent_list):\n",
      "        \"\"\"\n",
      "        Gives the agents existence in the world. This means that this method places each agent in the grid (2D NumPy array),\n",
      "        accordingly to its random location given by its attribute self.position\n",
      "        When it is placed, we say that the agent \"exists\" in the world. \n",
      "        If that cell is already taken, it looks for a new random location for the agent to exist until it finds an empty cell.\n",
      "        \"\"\"\n",
      "        \n",
      "        for i in xrange(len(agent_list)):\n",
      "            while agent_list[i].existence == False:\n",
      "                x,y = agent_list[i].position\n",
      "                if self.grid[x,y] == 0:\n",
      "                    self.grid[x,y] = agent_list[i].tpe\n",
      "                    agent_list[i].existence = True\n",
      "                else:\n",
      "                    agent_list[i].position = np.array([randint(0,50), randint(0,50)])\n",
      "                   \n",
      "    def update_agents(self, agents, step, world):\n",
      "        for i in xrange(len(agents)):\n",
      "            agents[i].death(agents, step, world)\n",
      "            \n",
      "        for agent in agents:\n",
      "            if agent.existence==True:\n",
      "                self.grid[agents[i].position[0], agents[i].position[1]] = 0\n",
      "                agents[i].move(self)\n",
      "                self.grid[agents[i].position[0], agents[i].position[1]] = agents[i].tpe\n",
      "            \n",
      "    def count_sugars(self):\n",
      "        count=0\n",
      "        for i in xrange(0,len(self.sugars_list)):\n",
      "            if self.sugars_list[i].existence == True:\n",
      "                count+= 1\n",
      "        return count\n",
      "    \n",
      "    def count_agents(self, agents):\n",
      "        count=0\n",
      "        for agent in agents:\n",
      "            if agent.existence == True:\n",
      "                count+= 1\n",
      "        return count\n",
      "    \n",
      "    def update_sugars(self):\n",
      "        if self.count_sugars()<40:\n",
      "            self.define(self.sugars_list)\n",
      "            \n",
      "        \n",
      "    def draw(self):\n",
      "        plt.figure(figsize=(11,10), dpi=80)\n",
      "        pyplot.pcolor(-numpy.flipud(self.grid))\n",
      "        plt.axis([0, 51, 0, 51])\n",
      "        plt.gray()\n",
      "        plt.colorbar() #ELIMINAR es para fines de pruebas\n",
      "#         plt.axis('off') #ELIMINAR"
     ],
     "language": "python",
     "metadata": {},
     "outputs": [],
     "prompt_number": 56
    },
    {
     "cell_type": "heading",
     "level": 2,
     "metadata": {},
     "source": [
      "Trial 1"
     ]
    },
    {
     "cell_type": "markdown",
     "metadata": {},
     "source": [
      "Synthetic trial with only one agent which is easy to modify in order to observe its behavior.\n",
      "\n",
      "This simulation runs for 5 steps."
     ]
    },
    {
     "cell_type": "code",
     "collapsed": false,
     "input": [
      "SS = World()\n",
      "test_agent = Agent_grid(id = 0, x = 1, y= 1, vision=2)\n",
      "test_agents = [test_agent]\n",
      "test_sugars = [Sugar(0,x=0,y=0, quantity=3), Sugar(1,x=1,y=2,quantity=10),Sugar(2,x=2,y=1,quantity=15)]\n",
      "test_spices= [Spice(3, x=4,y=4, quantity=2)]\n",
      "SS.define(test_agents)\n",
      "SS.place_sugars(n = None, practice_sugars = test_sugars)\n",
      "SS.place_spices(n=None, practice_spices=test_spices)\n",
      "\n",
      "test_agent.state(SS, full_state = True)\n",
      "SS.draw()\n",
      "steps=5\n",
      "\n",
      "for x in xrange(1,steps+1):\n",
      "    SS.update_agents(test_agents, x, SS)\n",
      "    test_agent.state(SS)\n",
      "    SS.draw()"
     ],
     "language": "python",
     "metadata": {},
     "outputs": [
      {
       "output_type": "stream",
       "stream": "stdout",
       "text": [
        "Hello, I'm a type 2 agent with ID: 0\n",
        "My stats are as follows:\n",
        "\t Maximum life time: 8\n",
        "\t Sex: M\n",
        "\t Metabolism: 3\n",
        "\t Vision: 2\n",
        "My current state is: \n",
        "\t Energy: 10\n",
        "\t Position: [1 1]\n",
        "\t Surroundings: \n",
        "[[ 2.  0.  0.  0.]\n",
        " [ 0.  2.  2.  0.]\n",
        " [ 0.  2.  0.  0.]\n",
        " [ 0.  0.  0.  0.]]\n"
       ]
      },
      {
       "ename": "UnboundLocalError",
       "evalue": "local variable 'objective_sugar' referenced before assignment",
       "output_type": "pyerr",
       "traceback": [
        "\u001b[1;31m---------------------------------------------------------------------------\u001b[0m\n\u001b[1;31mUnboundLocalError\u001b[0m                         Traceback (most recent call last)",
        "\u001b[1;32m<ipython-input-57-28aca6b521a9>\u001b[0m in \u001b[0;36m<module>\u001b[1;34m()\u001b[0m\n\u001b[0;32m     13\u001b[0m \u001b[1;33m\u001b[0m\u001b[0m\n\u001b[0;32m     14\u001b[0m \u001b[1;32mfor\u001b[0m \u001b[0mx\u001b[0m \u001b[1;32min\u001b[0m \u001b[0mxrange\u001b[0m\u001b[1;33m(\u001b[0m\u001b[1;36m1\u001b[0m\u001b[1;33m,\u001b[0m\u001b[0msteps\u001b[0m\u001b[1;33m+\u001b[0m\u001b[1;36m1\u001b[0m\u001b[1;33m)\u001b[0m\u001b[1;33m:\u001b[0m\u001b[1;33m\u001b[0m\u001b[0m\n\u001b[1;32m---> 15\u001b[1;33m     \u001b[0mSS\u001b[0m\u001b[1;33m.\u001b[0m\u001b[0mupdate_agents\u001b[0m\u001b[1;33m(\u001b[0m\u001b[0mtest_agents\u001b[0m\u001b[1;33m,\u001b[0m \u001b[0mx\u001b[0m\u001b[1;33m,\u001b[0m \u001b[0mSS\u001b[0m\u001b[1;33m)\u001b[0m\u001b[1;33m\u001b[0m\u001b[0m\n\u001b[0m\u001b[0;32m     16\u001b[0m     \u001b[0mtest_agent\u001b[0m\u001b[1;33m.\u001b[0m\u001b[0mstate\u001b[0m\u001b[1;33m(\u001b[0m\u001b[0mSS\u001b[0m\u001b[1;33m)\u001b[0m\u001b[1;33m\u001b[0m\u001b[0m\n\u001b[0;32m     17\u001b[0m     \u001b[0mSS\u001b[0m\u001b[1;33m.\u001b[0m\u001b[0mdraw\u001b[0m\u001b[1;33m(\u001b[0m\u001b[1;33m)\u001b[0m\u001b[1;33m\u001b[0m\u001b[0m\n",
        "\u001b[1;32m<ipython-input-56-01177169e555>\u001b[0m in \u001b[0;36mupdate_agents\u001b[1;34m(self, agents, step, world)\u001b[0m\n\u001b[0;32m     63\u001b[0m             \u001b[1;32mif\u001b[0m \u001b[0magent\u001b[0m\u001b[1;33m.\u001b[0m\u001b[0mexistence\u001b[0m\u001b[1;33m==\u001b[0m\u001b[0mTrue\u001b[0m\u001b[1;33m:\u001b[0m\u001b[1;33m\u001b[0m\u001b[0m\n\u001b[0;32m     64\u001b[0m                 \u001b[0mself\u001b[0m\u001b[1;33m.\u001b[0m\u001b[0mgrid\u001b[0m\u001b[1;33m[\u001b[0m\u001b[0magents\u001b[0m\u001b[1;33m[\u001b[0m\u001b[0mi\u001b[0m\u001b[1;33m]\u001b[0m\u001b[1;33m.\u001b[0m\u001b[0mposition\u001b[0m\u001b[1;33m[\u001b[0m\u001b[1;36m0\u001b[0m\u001b[1;33m]\u001b[0m\u001b[1;33m,\u001b[0m \u001b[0magents\u001b[0m\u001b[1;33m[\u001b[0m\u001b[0mi\u001b[0m\u001b[1;33m]\u001b[0m\u001b[1;33m.\u001b[0m\u001b[0mposition\u001b[0m\u001b[1;33m[\u001b[0m\u001b[1;36m1\u001b[0m\u001b[1;33m]\u001b[0m\u001b[1;33m]\u001b[0m \u001b[1;33m=\u001b[0m \u001b[1;36m0\u001b[0m\u001b[1;33m\u001b[0m\u001b[0m\n\u001b[1;32m---> 65\u001b[1;33m                 \u001b[0magents\u001b[0m\u001b[1;33m[\u001b[0m\u001b[0mi\u001b[0m\u001b[1;33m]\u001b[0m\u001b[1;33m.\u001b[0m\u001b[0mmove\u001b[0m\u001b[1;33m(\u001b[0m\u001b[0mself\u001b[0m\u001b[1;33m)\u001b[0m\u001b[1;33m\u001b[0m\u001b[0m\n\u001b[0m\u001b[0;32m     66\u001b[0m                 \u001b[0mself\u001b[0m\u001b[1;33m.\u001b[0m\u001b[0mgrid\u001b[0m\u001b[1;33m[\u001b[0m\u001b[0magents\u001b[0m\u001b[1;33m[\u001b[0m\u001b[0mi\u001b[0m\u001b[1;33m]\u001b[0m\u001b[1;33m.\u001b[0m\u001b[0mposition\u001b[0m\u001b[1;33m[\u001b[0m\u001b[1;36m0\u001b[0m\u001b[1;33m]\u001b[0m\u001b[1;33m,\u001b[0m \u001b[0magents\u001b[0m\u001b[1;33m[\u001b[0m\u001b[0mi\u001b[0m\u001b[1;33m]\u001b[0m\u001b[1;33m.\u001b[0m\u001b[0mposition\u001b[0m\u001b[1;33m[\u001b[0m\u001b[1;36m1\u001b[0m\u001b[1;33m]\u001b[0m\u001b[1;33m]\u001b[0m \u001b[1;33m=\u001b[0m \u001b[0magents\u001b[0m\u001b[1;33m[\u001b[0m\u001b[0mi\u001b[0m\u001b[1;33m]\u001b[0m\u001b[1;33m.\u001b[0m\u001b[0mtpe\u001b[0m\u001b[1;33m\u001b[0m\u001b[0m\n\u001b[0;32m     67\u001b[0m \u001b[1;33m\u001b[0m\u001b[0m\n",
        "\u001b[1;32m<ipython-input-53-3450e027ce97>\u001b[0m in \u001b[0;36mmove\u001b[1;34m(self, world)\u001b[0m\n\u001b[0;32m    157\u001b[0m \u001b[1;33m\u001b[0m\u001b[0m\n\u001b[0;32m    158\u001b[0m         \"\"\"\n\u001b[1;32m--> 159\u001b[1;33m         \u001b[0mself\u001b[0m\u001b[1;33m.\u001b[0m\u001b[0mdecide\u001b[0m\u001b[1;33m(\u001b[0m\u001b[0mworld\u001b[0m\u001b[1;33m)\u001b[0m\u001b[1;33m\u001b[0m\u001b[0m\n\u001b[0m\u001b[0;32m    160\u001b[0m         \u001b[1;32mif\u001b[0m \u001b[0mself\u001b[0m\u001b[1;33m.\u001b[0m\u001b[0mobjective\u001b[0m \u001b[1;33m==\u001b[0m \u001b[0mNone\u001b[0m\u001b[1;33m:\u001b[0m\u001b[1;33m\u001b[0m\u001b[0m\n\u001b[0;32m    161\u001b[0m             \u001b[0mrandom_choice\u001b[0m \u001b[1;33m=\u001b[0m \u001b[0mchoice\u001b[0m\u001b[1;33m(\u001b[0m\u001b[0mself\u001b[0m\u001b[1;33m.\u001b[0m\u001b[0mvicinity\u001b[0m\u001b[1;33m[\u001b[0m\u001b[1;34m'empty_spaces'\u001b[0m\u001b[1;33m]\u001b[0m\u001b[1;33m)\u001b[0m\u001b[1;33m\u001b[0m\u001b[0m\n",
        "\u001b[1;32m<ipython-input-53-3450e027ce97>\u001b[0m in \u001b[0;36mdecide\u001b[1;34m(self, world)\u001b[0m\n\u001b[0;32m    142\u001b[0m             \u001b[1;32mreturn\u001b[0m \u001b[0mTrue\u001b[0m\u001b[1;33m\u001b[0m\u001b[0m\n\u001b[0;32m    143\u001b[0m         \u001b[1;32melse\u001b[0m\u001b[1;33m:\u001b[0m\u001b[1;33m\u001b[0m\u001b[0m\n\u001b[1;32m--> 144\u001b[1;33m             \u001b[0mself\u001b[0m\u001b[1;33m.\u001b[0m\u001b[0mobjective\u001b[0m\u001b[1;33m=\u001b[0m\u001b[0mobjective_sugar\u001b[0m\u001b[1;33m\u001b[0m\u001b[0m\n\u001b[0m\u001b[0;32m    145\u001b[0m             \u001b[1;32mreturn\u001b[0m \u001b[0mFalse\u001b[0m\u001b[1;33m\u001b[0m\u001b[0m\n\u001b[0;32m    146\u001b[0m \u001b[1;33m\u001b[0m\u001b[0m\n",
        "\u001b[1;31mUnboundLocalError\u001b[0m: local variable 'objective_sugar' referenced before assignment"
       ]
      },
      {
       "metadata": {},
       "output_type": "display_data",
       "png": "[encoded data removed]",
       "text": [
        "<matplotlib.figure.Figure at 0x7f0f98d0fe50>"
       ]
      }
     ],
     "prompt_number": 57
    },
    {
     "cell_type": "heading",
     "level": 2,
     "metadata": {},
     "source": [
      "Trial 2"
     ]
    },
    {
     "cell_type": "markdown",
     "metadata": {},
     "source": [
      "More general trial with **100** agents generated randomly and **500** sugars generated randomly that runs for 20 steps."
     ]
    },
    {
     "cell_type": "code",
     "collapsed": false,
     "input": [
      "SS = World()\n",
      "agents = [(Agent_grid(i)) for i in xrange(100)]\n",
      "SS.define(agents)\n",
      "SS.place_sugars(n = 500)\n",
      "SS.place_spices(n=200)\n",
      "SS.draw()\n",
      "\n",
      "steps=20\n",
      "\n",
      "for i in xrange(1,steps+1): \n",
      "    SS.update_agents(agents, step, SS)\n",
      "    SS.update_sugars()\n",
      "    SS.draw()\n",
      "\n",
      "\n"
     ],
     "language": "python",
     "metadata": {},
     "outputs": [
      {
       "ename": "UnboundLocalError",
       "evalue": "local variable 'bc_spice' referenced before assignment",
       "output_type": "pyerr",
       "traceback": [
        "\u001b[1;31m---------------------------------------------------------------------------\u001b[0m\n\u001b[1;31mUnboundLocalError\u001b[0m                         Traceback (most recent call last)",
        "\u001b[1;32m<ipython-input-31-6c5b698f8c2d>\u001b[0m in \u001b[0;36m<module>\u001b[1;34m()\u001b[0m\n\u001b[0;32m      9\u001b[0m \u001b[1;33m\u001b[0m\u001b[0m\n\u001b[0;32m     10\u001b[0m \u001b[1;32mfor\u001b[0m \u001b[0mi\u001b[0m \u001b[1;32min\u001b[0m \u001b[0mxrange\u001b[0m\u001b[1;33m(\u001b[0m\u001b[1;36m1\u001b[0m\u001b[1;33m,\u001b[0m\u001b[0msteps\u001b[0m\u001b[1;33m+\u001b[0m\u001b[1;36m1\u001b[0m\u001b[1;33m)\u001b[0m\u001b[1;33m:\u001b[0m\u001b[1;33m\u001b[0m\u001b[0m\n\u001b[1;32m---> 11\u001b[1;33m     \u001b[0mSS\u001b[0m\u001b[1;33m.\u001b[0m\u001b[0mupdate_agents\u001b[0m\u001b[1;33m(\u001b[0m\u001b[0magents\u001b[0m\u001b[1;33m,\u001b[0m \u001b[0mstep\u001b[0m\u001b[1;33m,\u001b[0m \u001b[0mSS\u001b[0m\u001b[1;33m)\u001b[0m\u001b[1;33m\u001b[0m\u001b[0m\n\u001b[0m\u001b[0;32m     12\u001b[0m     \u001b[0mSS\u001b[0m\u001b[1;33m.\u001b[0m\u001b[0mupdate_sugars\u001b[0m\u001b[1;33m(\u001b[0m\u001b[1;33m)\u001b[0m\u001b[1;33m\u001b[0m\u001b[0m\n\u001b[0;32m     13\u001b[0m     \u001b[0mSS\u001b[0m\u001b[1;33m.\u001b[0m\u001b[0mdraw\u001b[0m\u001b[1;33m(\u001b[0m\u001b[1;33m)\u001b[0m\u001b[1;33m\u001b[0m\u001b[0m\n",
        "\u001b[1;32m<ipython-input-29-01177169e555>\u001b[0m in \u001b[0;36mupdate_agents\u001b[1;34m(self, agents, step, world)\u001b[0m\n\u001b[0;32m     63\u001b[0m             \u001b[1;32mif\u001b[0m \u001b[0magent\u001b[0m\u001b[1;33m.\u001b[0m\u001b[0mexistence\u001b[0m\u001b[1;33m==\u001b[0m\u001b[0mTrue\u001b[0m\u001b[1;33m:\u001b[0m\u001b[1;33m\u001b[0m\u001b[0m\n\u001b[0;32m     64\u001b[0m                 \u001b[0mself\u001b[0m\u001b[1;33m.\u001b[0m\u001b[0mgrid\u001b[0m\u001b[1;33m[\u001b[0m\u001b[0magents\u001b[0m\u001b[1;33m[\u001b[0m\u001b[0mi\u001b[0m\u001b[1;33m]\u001b[0m\u001b[1;33m.\u001b[0m\u001b[0mposition\u001b[0m\u001b[1;33m[\u001b[0m\u001b[1;36m0\u001b[0m\u001b[1;33m]\u001b[0m\u001b[1;33m,\u001b[0m \u001b[0magents\u001b[0m\u001b[1;33m[\u001b[0m\u001b[0mi\u001b[0m\u001b[1;33m]\u001b[0m\u001b[1;33m.\u001b[0m\u001b[0mposition\u001b[0m\u001b[1;33m[\u001b[0m\u001b[1;36m1\u001b[0m\u001b[1;33m]\u001b[0m\u001b[1;33m]\u001b[0m \u001b[1;33m=\u001b[0m \u001b[1;36m0\u001b[0m\u001b[1;33m\u001b[0m\u001b[0m\n\u001b[1;32m---> 65\u001b[1;33m                 \u001b[0magents\u001b[0m\u001b[1;33m[\u001b[0m\u001b[0mi\u001b[0m\u001b[1;33m]\u001b[0m\u001b[1;33m.\u001b[0m\u001b[0mmove\u001b[0m\u001b[1;33m(\u001b[0m\u001b[0mself\u001b[0m\u001b[1;33m)\u001b[0m\u001b[1;33m\u001b[0m\u001b[0m\n\u001b[0m\u001b[0;32m     66\u001b[0m                 \u001b[0mself\u001b[0m\u001b[1;33m.\u001b[0m\u001b[0mgrid\u001b[0m\u001b[1;33m[\u001b[0m\u001b[0magents\u001b[0m\u001b[1;33m[\u001b[0m\u001b[0mi\u001b[0m\u001b[1;33m]\u001b[0m\u001b[1;33m.\u001b[0m\u001b[0mposition\u001b[0m\u001b[1;33m[\u001b[0m\u001b[1;36m0\u001b[0m\u001b[1;33m]\u001b[0m\u001b[1;33m,\u001b[0m \u001b[0magents\u001b[0m\u001b[1;33m[\u001b[0m\u001b[0mi\u001b[0m\u001b[1;33m]\u001b[0m\u001b[1;33m.\u001b[0m\u001b[0mposition\u001b[0m\u001b[1;33m[\u001b[0m\u001b[1;36m1\u001b[0m\u001b[1;33m]\u001b[0m\u001b[1;33m]\u001b[0m \u001b[1;33m=\u001b[0m \u001b[0magents\u001b[0m\u001b[1;33m[\u001b[0m\u001b[0mi\u001b[0m\u001b[1;33m]\u001b[0m\u001b[1;33m.\u001b[0m\u001b[0mtpe\u001b[0m\u001b[1;33m\u001b[0m\u001b[0m\n\u001b[0;32m     67\u001b[0m \u001b[1;33m\u001b[0m\u001b[0m\n",
        "\u001b[1;32m<ipython-input-26-25241413f613>\u001b[0m in \u001b[0;36mmove\u001b[1;34m(self, world)\u001b[0m\n\u001b[0;32m    154\u001b[0m \u001b[1;33m\u001b[0m\u001b[0m\n\u001b[0;32m    155\u001b[0m         \"\"\"\n\u001b[1;32m--> 156\u001b[1;33m         \u001b[0mself\u001b[0m\u001b[1;33m.\u001b[0m\u001b[0mdecide\u001b[0m\u001b[1;33m(\u001b[0m\u001b[0mworld\u001b[0m\u001b[1;33m)\u001b[0m\u001b[1;33m\u001b[0m\u001b[0m\n\u001b[0m\u001b[0;32m    157\u001b[0m         \u001b[1;32mif\u001b[0m \u001b[0mself\u001b[0m\u001b[1;33m.\u001b[0m\u001b[0mobjective\u001b[0m \u001b[1;33m==\u001b[0m \u001b[0mNone\u001b[0m\u001b[1;33m:\u001b[0m\u001b[1;33m\u001b[0m\u001b[0m\n\u001b[0;32m    158\u001b[0m             \u001b[0mrandom_choice\u001b[0m \u001b[1;33m=\u001b[0m \u001b[0mchoice\u001b[0m\u001b[1;33m(\u001b[0m\u001b[0mself\u001b[0m\u001b[1;33m.\u001b[0m\u001b[0mvicinity\u001b[0m\u001b[1;33m[\u001b[0m\u001b[1;34m'empty_spaces'\u001b[0m\u001b[1;33m]\u001b[0m\u001b[1;33m)\u001b[0m\u001b[1;33m\u001b[0m\u001b[0m\n",
        "\u001b[1;32m<ipython-input-26-25241413f613>\u001b[0m in \u001b[0;36mdecide\u001b[1;34m(self, world)\u001b[0m\n\u001b[0;32m    137\u001b[0m                 \u001b[0mobjective_spice\u001b[0m\u001b[1;33m=\u001b[0m\u001b[0mj\u001b[0m\u001b[1;33m\u001b[0m\u001b[0m\n\u001b[0;32m    138\u001b[0m \u001b[1;33m\u001b[0m\u001b[0m\n\u001b[1;32m--> 139\u001b[1;33m         \u001b[1;32mif\u001b[0m \u001b[0mbc_spice\u001b[0m\u001b[1;33m>\u001b[0m\u001b[0mbc_sugar\u001b[0m\u001b[1;33m:\u001b[0m\u001b[1;33m\u001b[0m\u001b[0m\n\u001b[0m\u001b[0;32m    140\u001b[0m             \u001b[0mself\u001b[0m\u001b[1;33m.\u001b[0m\u001b[0mobjective\u001b[0m\u001b[1;33m=\u001b[0m\u001b[0mobjective_spice\u001b[0m\u001b[1;33m\u001b[0m\u001b[0m\n\u001b[0;32m    141\u001b[0m         \u001b[1;32melse\u001b[0m\u001b[1;33m:\u001b[0m\u001b[1;33m\u001b[0m\u001b[0m\n",
        "\u001b[1;31mUnboundLocalError\u001b[0m: local variable 'bc_spice' referenced before assignment"
       ]
      },
      {
       "metadata": {},
       "output_type": "display_data",
       "png": "[encoded data removed]",
       "text": [
        "<matplotlib.figure.Figure at 0x7f0f98ce1050>"
       ]
      }
     ],
     "prompt_number": 31
    },
    {
     "cell_type": "code",
     "collapsed": false,
     "input": [
      "SS.count_agents(agents)#Agents that remain alive after the 20 steps"
     ],
     "language": "python",
     "metadata": {},
     "outputs": [
      {
       "metadata": {},
       "output_type": "pyout",
       "prompt_number": 107,
       "text": [
        "100"
       ]
      }
     ],
     "prompt_number": 107
    },
    {
     "cell_type": "code",
     "collapsed": false,
     "input": [
      "count=0\n",
      "for j in xrange(0,51):\n",
      "    for i in xrange(0,51):\n",
      "        if SS.grid[i,j]==2:\n",
      "            count+=1\n",
      "            \n",
      "print count #Solo us\u00e9 esto para comprobar que los agentes dibujados en el mundo sean los que quedan vivos."
     ],
     "language": "python",
     "metadata": {},
     "outputs": [
      {
       "output_type": "stream",
       "stream": "stdout",
       "text": [
        "100\n"
       ]
      }
     ],
     "prompt_number": 108
    },
    {
     "cell_type": "code",
     "collapsed": false,
     "input": [
      "SS.count_sugars()"
     ],
     "language": "python",
     "metadata": {},
     "outputs": [
      {
       "metadata": {},
       "output_type": "pyout",
       "prompt_number": 109,
       "text": [
        "214"
       ]
      }
     ],
     "prompt_number": 109
    },
    {
     "cell_type": "code",
     "collapsed": false,
     "input": [],
     "language": "python",
     "metadata": {},
     "outputs": []
    }
   ],
   "metadata": {}
  }
 ]
}