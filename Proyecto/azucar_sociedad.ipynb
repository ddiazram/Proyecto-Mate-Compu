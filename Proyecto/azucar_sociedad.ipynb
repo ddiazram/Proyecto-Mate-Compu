{
 "metadata": {
  "name": "",
  "signature": "sha256:b61c382bb38929486e8755e0df34e9b72298405e4c17091cee8045e1505085d8"
 },
 "nbformat": 3,
 "nbformat_minor": 0,
 "worksheets": [
  {
   "cells": [
    {
     "cell_type": "heading",
     "level": 1,
     "metadata": {},
     "source": [
      "Az\u00facar y Sociedad"
     ]
    },
    {
     "cell_type": "heading",
     "level": 3,
     "metadata": {},
     "source": [
      "Temas"
     ]
    },
    {
     "cell_type": "markdown",
     "metadata": {},
     "source": [
      "- Agentes"
     ]
    },
    {
     "cell_type": "heading",
     "level": 2,
     "metadata": {},
     "source": [
      "Introducci\u00f3n"
     ]
    },
    {
     "cell_type": "markdown",
     "metadata": {},
     "source": [
      "[**Sugarscape**](http://en.wikipedia.org/wiki/Sugarscape) es un modelo basado en agentes desarrollado por **Joshua M. Epstein** y **Robert Axtell**, presentado originalmente en _Growing Artificial Societies_. Consta de una rejilla 2D, en la que hay un bien abstracto, llamado `azucar`, los agentes vagan por la rejilla y acumulan `az\u00facar`."
     ]
    },
    {
     "cell_type": "markdown",
     "metadata": {},
     "source": [
      "El modelo original es el primer modelo de agentes a gran escala y ocurr\u00eda en una rejilla de $51 \\times 51$ celdas. En cada `step` los agentes miran alredor, encuentran la celda m\u00e1s cercana con `az\u00facar`, se mueven y metabolizan (tasa a la que consumen `az\u00facar`). La simulaci\u00f3n puede ser complicada y se puede agregar que cada agente deje contaminaci\u00f3n, se reproduzca, herede recursos, transfiera informaci\u00f3n, comercie, regale, transmita enfermedades, o haga la guerra. Tambi\u00e9n es posible agregar un Gobierno que cobre impuestos cada determinado n\u00famero de `steps` o que inclusive haya dos tipos de bien (en las simulaciones se llama `especia`)."
     ]
    },
    {
     "cell_type": "heading",
     "level": 2,
     "metadata": {},
     "source": [
      "Preguntas a responder"
     ]
    },
    {
     "cell_type": "markdown",
     "metadata": {},
     "source": [
      "- Cree un clase `Habitante` que herede de nuestra clase `Agente`, implemente el algoritmo de comportamiento comentado en la introducci\u00f3n. \n",
      "- Cree un clase `Sugarscape` que herede de nuestra clase `Mundo`. Representa mediante grados de color la fuerza del agente y la cantidad de az\u00facar en la celda.\n",
      "- Cree una clase `Bien` que represente al `az\u00facar` de **Sugarscape**.\n",
      "- Ejecuta una simulaci\u00f3n sencilla, con agentes consumiendo recursos y acapar\u00e1ndolos. Inicializa los agentes con diferentes capacidades de almacenar az\u00facar, consumo de az\u00facar (metabolismo) y rango de visi\u00f3n.\n",
      "- Grafica la [**curva de Lorenz**](http://en.wikipedia.org/wiki/Lorenz_curve) y el [**coeficiente de Gini**](http://en.wikipedia.org/wiki/Gini_coefficient), grafica tambi\u00e9n la poblaci\u00f3n y la cantidad de az\u00facar. \u00bfQu\u00e9 interpretaci\u00f3n le das a las gr\u00e1ficas?\n",
      "- Agrega un factor de regeneraci\u00f3n del `az\u00facar`.\n",
      "- Agrega un factor de reproducci\u00f3n asexual. (Si tiene suficiente energ\u00eda, se divide en dos).\n",
      "- Agrega que el agente muera por hambre.\n",
      "- Agrega la `especia` al modelo, tambi\u00e9n es necesario para vivir. Su valor nutrimental es diferente al del `az\u00facar`.\n",
      "- Agrega la habilidad de comerciar.\n",
      "- Agrega una `tribu` al agente. \n",
      "- Agrega el comportamiento de que nuevos agentes sean creados cuando un agente muera.\n",
      "- Agrega un tiempo de vida m\u00e1ximo.\n",
      "- Agrega una variable `sexo`.\n",
      "- Agrega reproducci\u00f3n sexual (Si est\u00e1 en su edad f\u00e9rtil, ambos tienen energ\u00eda y le transmiten la mitad a su hijo)."
     ]
    },
    {
     "cell_type": "heading",
     "level": 2,
     "metadata": {},
     "source": [
      "Preguntas adicionales"
     ]
    },
    {
     "cell_type": "markdown",
     "metadata": {},
     "source": [
      "- \u00bfQu\u00e9 pasa si la variable `tribu` afecta el comercio y el sexo? \u00bfC\u00f3mo lo simular\u00edas y por qu\u00e9?\n",
      "- \u00bfC\u00f3mo simular\u00edas **guerra primitiva**?\n",
      "- \u00bfC\u00f3mo simular\u00edas **enfermedad**?\n",
      "- \u00bfQuieres incluir **gen\u00e9tica**? \n",
      "    - Define una cadena binaria (i.e. de ceros y unos) en los que se est\u00e9n codificadas el sexo, capacidad de almacenar az\u00facar, metabolismo, rango de visi\u00f3n.\n",
      "    - Cuando los agentes se reproduzcan sexualmente, realiza un [`crossover`](http://en.wikipedia.org/wiki/Crossover_(genetic_algorithm)) para determinar los atributos de los agentes de la siguiente generaci\u00f3n.\n",
      "- Agrega una asimetr\u00eda de sexo, esto lo puedes modelar con un `offspring_cost` que sea mayor para uno de los sexos. Entonces antes de reproducirse sexualmente, hay una decisi\u00f3n por parte de los agentes."
     ]
    },
    {
     "cell_type": "heading",
     "level": 2,
     "metadata": {},
     "source": [
      "Bibliograf\u00eda"
     ]
    },
    {
     "cell_type": "markdown",
     "metadata": {},
     "source": [
      "- **Epstein, Joshua M.; Axtell, Robert** (October 11, 1996). _Growing artificial societies: social science from the bottom up_. `Brookings Institution Press. p. 224. ISBN 978-0-262-55025-3.`\n",
      "- **Wikipedia** [_Sugarscape_](http://en.wikipedia.org/wiki/Sugarscape)"
     ]
    }
   ],
   "metadata": {}
  }
 ]
}